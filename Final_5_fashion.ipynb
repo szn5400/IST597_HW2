{
 "cells": [
  {
   "cell_type": "code",
   "execution_count": 24,
   "id": "00811a17",
   "metadata": {},
   "outputs": [],
   "source": [
    "from keras.datasets import fashion_mnist\n",
    "(x_train, y_train), (x_test, y_test) = fashion_mnist.load_data()"
   ]
  },
  {
   "cell_type": "code",
   "execution_count": 25,
   "id": "1d8814a5",
   "metadata": {},
   "outputs": [
    {
     "name": "stdout",
     "output_type": "stream",
     "text": [
      "X_train: (5000, 28, 28)\n",
      "Y_train: (5000, 10)\n",
      "X_test:  (10000, 28, 28)\n",
      "Y_test:  (10000, 10)\n",
      "Number of Epoch = 1 - Average celoss:= 130.5753- Acc:= 0.11399999260902405 \n",
      "Number of Epoch = 2 - Average celoss:= 124.2016125- Acc:= 0.16420002281665802 \n",
      "Number of Epoch = 3 - Average celoss:= 118.161025- Acc:= 0.188400000333786 \n",
      "Number of Epoch = 4 - Average celoss:= 112.3949125- Acc:= 0.2310001105070114 \n",
      "Number of Epoch = 5 - Average celoss:= 106.90635- Acc:= 0.27599990367889404 \n",
      "Number of Epoch = 6 - Average celoss:= 101.713525- Acc:= 0.2889999449253082 \n",
      "Number of Epoch = 7 - Average celoss:= 96.74014375- Acc:= 0.3421998918056488 \n",
      "Number of Epoch = 8 - Average celoss:= 92.038475- Acc:= 0.3558000922203064 \n",
      "Number of Epoch = 9 - Average celoss:= 87.54594375- Acc:= 0.3951999247074127 \n",
      "Number of Epoch = 10 - Average celoss:= 83.28971875- Acc:= 0.40699994564056396 \n",
      "\n",
      "Total time taken (in seconds): 53.38\n",
      "Test celoss: 812.2079 and accuracy: 0.4179\n",
      "X_train: (10000, 28, 28)\n",
      "Y_train: (10000, 10)\n",
      "X_test:  (10000, 28, 28)\n",
      "Y_test:  (10000, 10)\n",
      "Number of Epoch = 1 - Average celoss:= 127.3903- Acc:= 0.1371999830007553 \n",
      "Number of Epoch = 2 - Average celoss:= 115.28095- Acc:= 0.20600005984306335 \n",
      "Number of Epoch = 3 - Average celoss:= 104.34229375- Acc:= 0.24330008029937744 \n",
      "Number of Epoch = 4 - Average celoss:= 94.44771875- Acc:= 0.2760002017021179 \n",
      "Number of Epoch = 5 - Average celoss:= 85.50165- Acc:= 0.29259997606277466 \n",
      "Number of Epoch = 6 - Average celoss:= 77.3923375- Acc:= 0.3301999270915985 \n",
      "Number of Epoch = 7 - Average celoss:= 70.05971875- Acc:= 0.35640010237693787 \n",
      "Number of Epoch = 8 - Average celoss:= 63.4075875- Acc:= 0.4018000364303589 \n",
      "Number of Epoch = 9 - Average celoss:= 57.400825- Acc:= 0.4262998402118683 \n",
      "Number of Epoch = 10 - Average celoss:= 51.944578125- Acc:= 0.47749996185302734 \n",
      "\n",
      "Total time taken (in seconds): 104.18\n",
      "Test celoss: 246.9904 and accuracy: 0.4892\n",
      "X_train: (15000, 28, 28)\n",
      "Y_train: (15000, 10)\n",
      "X_test:  (10000, 28, 28)\n",
      "Y_test:  (10000, 10)\n",
      "Number of Epoch = 1 - Average celoss:= 124.31294166666666- Acc:= 0.1551332324743271 \n",
      "Number of Epoch = 2 - Average celoss:= 107.05505- Acc:= 0.20413321256637573 \n",
      "Number of Epoch = 3 - Average celoss:= 92.19469166666667- Acc:= 0.252599835395813 \n",
      "Number of Epoch = 4 - Average celoss:= 79.39301666666667- Acc:= 0.31153348088264465 \n",
      "Number of Epoch = 5 - Average celoss:= 68.36728333333333- Acc:= 0.37273335456848145 \n",
      "Number of Epoch = 6 - Average celoss:= 58.8981625- Acc:= 0.39933300018310547 \n",
      "Number of Epoch = 7 - Average celoss:= 50.742866666666664- Acc:= 0.4244000315666199 \n",
      "Number of Epoch = 8 - Average celoss:= 43.706133333333334- Acc:= 0.4681333899497986 \n",
      "Number of Epoch = 9 - Average celoss:= 37.66780833333333- Acc:= 0.4845333993434906 \n",
      "Number of Epoch = 10 - Average celoss:= 32.46541875- Acc:= 0.5035333633422852 \n",
      "\n",
      "Total time taken (in seconds): 156.98\n",
      "Test celoss: 100.3673 and accuracy: 0.5099\n",
      "X_train: (20000, 28, 28)\n",
      "Y_train: (20000, 10)\n",
      "X_test:  (10000, 28, 28)\n",
      "Y_test:  (10000, 10)\n",
      "Number of Epoch = 1 - Average celoss:= 121.339325- Acc:= 0.16659985482692719 \n",
      "Number of Epoch = 2 - Average celoss:= 99.40120625- Acc:= 0.2538999915122986 \n",
      "Number of Epoch = 3 - Average celoss:= 81.42204375- Acc:= 0.34624984860420227 \n",
      "Number of Epoch = 4 - Average celoss:= 66.6949875- Acc:= 0.43024978041648865 \n",
      "Number of Epoch = 5 - Average celoss:= 54.65198125- Acc:= 0.48270025849342346 \n",
      "Number of Epoch = 6 - Average celoss:= 44.8059375- Acc:= 0.5073999762535095 \n",
      "Number of Epoch = 7 - Average celoss:= 36.7401625- Acc:= 0.5300002098083496 \n",
      "Number of Epoch = 8 - Average celoss:= 30.10779375- Acc:= 0.5714497566223145 \n",
      "Number of Epoch = 9 - Average celoss:= 24.677175- Acc:= 0.6116000413894653 \n",
      "Number of Epoch = 10 - Average celoss:= 20.1922734375- Acc:= 0.6730000376701355 \n",
      "\n",
      "Total time taken (in seconds): 210.22\n",
      "Test celoss: 45.5837 and accuracy: 0.6836\n",
      "X_train: (25000, 28, 28)\n",
      "Y_train: (25000, 10)\n",
      "X_test:  (10000, 28, 28)\n",
      "Y_test:  (10000, 10)\n",
      "Number of Epoch = 1 - Average celoss:= 118.46381- Acc:= 0.1758798360824585 \n",
      "Number of Epoch = 2 - Average celoss:= 92.33095- Acc:= 0.27347972989082336 \n",
      "Number of Epoch = 3 - Average celoss:= 71.94757- Acc:= 0.39188024401664734 \n",
      "Number of Epoch = 4 - Average celoss:= 56.095805- Acc:= 0.45847997069358826 \n",
      "Number of Epoch = 5 - Average celoss:= 43.764515- Acc:= 0.49027982354164124 \n",
      "Number of Epoch = 6 - Average celoss:= 34.1676325- Acc:= 0.5018001198768616 \n",
      "Number of Epoch = 7 - Average celoss:= 26.6827025- Acc:= 0.5189196467399597 \n",
      "Number of Epoch = 8 - Average celoss:= 20.81105125- Acc:= 0.5721597671508789 \n",
      "Number of Epoch = 9 - Average celoss:= 16.1550275- Acc:= 0.6625199913978577 \n",
      "Number of Epoch = 10 - Average celoss:= 12.50079125- Acc:= 0.6507604122161865 \n",
      "\n",
      "Total time taken (in seconds): 261.83\n",
      "Test celoss: 21.9872 and accuracy: 0.6520\n",
      "X_train: (30000, 28, 28)\n",
      "Y_train: (30000, 10)\n",
      "X_test:  (10000, 28, 28)\n",
      "Y_test:  (10000, 10)\n",
      "Number of Epoch = 1 - Average celoss:= 115.67924166666667- Acc:= 0.185699924826622 \n",
      "Number of Epoch = 2 - Average celoss:= 85.76589166666666- Acc:= 0.31813323497772217 \n",
      "Number of Epoch = 3 - Average celoss:= 63.578741666666666- Acc:= 0.4485996961593628 \n",
      "Number of Epoch = 4 - Average celoss:= 47.137970833333334- Acc:= 0.5564671158790588 \n",
      "Number of Epoch = 5 - Average celoss:= 34.97499166666667- Acc:= 0.6063339114189148 \n",
      "Number of Epoch = 6 - Average celoss:= 25.916477083333334- Acc:= 0.6772002577781677 \n",
      "Number of Epoch = 7 - Average celoss:= 19.172889583333333- Acc:= 0.71213299036026 \n",
      "Number of Epoch = 8 - Average celoss:= 14.162471875- Acc:= 0.6816669702529907 \n",
      "Number of Epoch = 9 - Average celoss:= 10.485733333333334- Acc:= 0.7032008171081543 \n",
      "Number of Epoch = 10 - Average celoss:= 7.773569270833334- Acc:= 0.7245663404464722 \n",
      "\n",
      "Total time taken (in seconds): 347.85\n",
      "Test celoss: 11.1173 and accuracy: 0.7332\n",
      "X_train: (35000, 28, 28)\n",
      "Y_train: (35000, 10)\n",
      "X_test:  (10000, 28, 28)\n",
      "Y_test:  (10000, 10)\n",
      "Number of Epoch = 1 - Average celoss:= 112.98448571428571- Acc:= 0.19442850351333618 \n",
      "Number of Epoch = 2 - Average celoss:= 79.70477142857143- Acc:= 0.3330288529396057 \n",
      "Number of Epoch = 3 - Average celoss:= 56.21187857142857- Acc:= 0.4860851466655731 \n",
      "Number of Epoch = 4 - Average celoss:= 39.67453928571429- Acc:= 0.5638001561164856 \n",
      "Number of Epoch = 5 - Average celoss:= 28.00091964285714- Acc:= 0.6327428221702576 \n",
      "Number of Epoch = 6 - Average celoss:= 19.721566071428573- Acc:= 0.7004573941230774 \n",
      "Number of Epoch = 7 - Average celoss:= 13.840344642857143- Acc:= 0.6766859889030457 \n",
      "Number of Epoch = 8 - Average celoss:= 9.744213392857143- Acc:= 0.7030574679374695 \n",
      "Number of Epoch = 9 - Average celoss:= 6.873904464285714- Acc:= 0.7291431427001953 \n",
      "Number of Epoch = 10 - Average celoss:= 4.853804464285714- Acc:= 0.7450570464134216 \n",
      "\n",
      "Total time taken (in seconds): 597.49\n",
      "Test celoss: 5.8007 and accuracy: 0.7450\n",
      "X_train: (40000, 28, 28)\n",
      "Y_train: (40000, 10)\n",
      "X_test:  (10000, 28, 28)\n",
      "Y_test:  (10000, 10)\n",
      "Number of Epoch = 1 - Average celoss:= 110.3741625- Acc:= 0.20427493751049042 \n",
      "Number of Epoch = 2 - Average celoss:= 74.0469- Acc:= 0.4006248414516449 \n",
      "Number of Epoch = 3 - Average celoss:= 49.696084375- Acc:= 0.5329498052597046 \n",
      "Number of Epoch = 4 - Average celoss:= 33.3608875- Acc:= 0.6276495456695557 \n",
      "Number of Epoch = 5 - Average celoss:= 22.3700875- Acc:= 0.7044506072998047 \n",
      "Number of Epoch = 6 - Average celoss:= 14.9440953125- Acc:= 0.6886500716209412 \n",
      "Number of Epoch = 7 - Average celoss:= 10.00636015625- Acc:= 0.7040505409240723 \n",
      "Number of Epoch = 8 - Average celoss:= 6.71553125- Acc:= 0.733700156211853 \n",
      "Number of Epoch = 9 - Average celoss:= 4.512245703125- Acc:= 0.755325436592102 \n",
      "Number of Epoch = 10 - Average celoss:= 3.0367029296875- Acc:= 0.7672755122184753 \n",
      "\n",
      "Total time taken (in seconds): 948.86\n",
      "Test celoss: 3.0973 and accuracy: 0.7624\n",
      "X_train: (45000, 28, 28)\n",
      "Y_train: (45000, 10)\n",
      "X_test:  (10000, 28, 28)\n",
      "Y_test:  (10000, 10)\n",
      "Number of Epoch = 1 - Average celoss:= 107.84642222222222- Acc:= 0.21400000154972076 \n",
      "Number of Epoch = 2 - Average celoss:= 68.83235555555555- Acc:= 0.42744478583335876 \n",
      "Number of Epoch = 3 - Average celoss:= 43.96201388888889- Acc:= 0.5553333759307861 \n",
      "Number of Epoch = 4 - Average celoss:= 28.06578888888889- Acc:= 0.6681337952613831 \n"
     ]
    },
    {
     "name": "stdout",
     "output_type": "stream",
     "text": [
      "Number of Epoch = 5 - Average celoss:= 17.898634722222223- Acc:= 0.7057332396507263 \n",
      "Number of Epoch = 6 - Average celoss:= 11.364060416666666- Acc:= 0.6880890130996704 \n",
      "Number of Epoch = 7 - Average celoss:= 7.249836111111111- Acc:= 0.7280898690223694 \n",
      "Number of Epoch = 8 - Average celoss:= 4.633914236111111- Acc:= 0.7525568604469299 \n",
      "Number of Epoch = 9 - Average celoss:= 2.9678649305555553- Acc:= 0.7624667882919312 \n",
      "Number of Epoch = 10 - Average celoss:= 1.906129513888889- Acc:= 0.7730889916419983 \n",
      "\n",
      "Total time taken (in seconds): 980.27\n",
      "Test celoss: 1.6873 and accuracy: 0.7615\n",
      "X_train: (50000, 28, 28)\n",
      "Y_train: (50000, 10)\n",
      "X_test:  (10000, 28, 28)\n",
      "Y_test:  (10000, 10)\n",
      "Number of Epoch = 1 - Average celoss:= 105.39789- Acc:= 0.2241399586200714 \n",
      "Number of Epoch = 2 - Average celoss:= 63.986565- Acc:= 0.46789979934692383 \n",
      "Number of Epoch = 3 - Average celoss:= 38.84863- Acc:= 0.6361995935440063 \n",
      "Number of Epoch = 4 - Average celoss:= 23.58255- Acc:= 0.7135802507400513 \n",
      "Number of Epoch = 5 - Average celoss:= 14.2573125- Acc:= 0.6922592520713806 \n",
      "Number of Epoch = 6 - Average celoss:= 8.6464125- Acc:= 0.7210201025009155 \n",
      "Number of Epoch = 7 - Average celoss:= 5.255935625- Acc:= 0.7517611384391785 \n",
      "Number of Epoch = 8 - Average celoss:= 3.2017446875- Acc:= 0.7656799554824829 \n",
      "Number of Epoch = 9 - Average celoss:= 1.95706140625- Acc:= 0.7737600803375244 \n",
      "Number of Epoch = 10 - Average celoss:= 1.202366796875- Acc:= 0.7780201435089111 \n",
      "\n",
      "Total time taken (in seconds): 1157.17\n",
      "Test celoss: 0.9367 and accuracy: 0.7710\n"
     ]
    }
   ],
   "source": [
    "import numpy as np\n",
    "from sklearn import preprocessing\n",
    "import tensorflow as tf\n",
    "import os\n",
    "import numpy as np\n",
    "import time\n",
    "\n",
    "#accuracy accumulation\n",
    "acc_across_training = []\n",
    "acc_across_validation = []\n",
    "# Define the One-hot Encoder\n",
    "ohe = preprocessing.OneHotEncoder()\n",
    "\n",
    "# Load MNIST data\n",
    "#(x_train, y_train), (x_test, y_test) = mnist.load_data()\n",
    "\n",
    "# Reshape data\n",
    "y_train = y_train.reshape(-1, 1)\n",
    "y_test = y_test.reshape(-1, 1)\n",
    "\n",
    "# Fit and transform training data\n",
    "ohe.fit(y_train)\n",
    "transformed_train = ohe.transform(y_train).toarray()\n",
    "\n",
    "# Fit and transform testing data\n",
    "ohe.fit(y_test)\n",
    "transformed_test = ohe.transform(y_test).toarray()\n",
    "\n",
    "test_X_mod = x_test.reshape(10000, 784)\n",
    "test_y_mod = transformed_test\n",
    "\n",
    "for multiply_with in range(1,11):\n",
    "    range_mult = 5000*multiply_with\n",
    "    x_train_new = x_train[0:range_mult, :]\n",
    "    transformed_train_new = transformed_train[0:range_mult,:]\n",
    "    print('X_train: ' + str(x_train_new.shape))\n",
    "    print('Y_train: ' + str(transformed_train_new.shape))\n",
    "    print('X_test:  '  + str(x_test.shape))\n",
    "    print('Y_test:  '  + str(transformed_test.shape))\n",
    "    train_X_mod = x_train_new.reshape(range_mult, 784)\n",
    "    train_y_mod = transformed_train_new\n",
    "    #test_X_mod = x_test.reshape(range_mult, 784)\n",
    "    #test_y_mod = transformed_test\n",
    "    size_input = 784\n",
    "    size_hidden1 = 512\n",
    "    size_hidden2 = 256\n",
    "    size_output = 10\n",
    "    number_of_train_examples = range_mult\n",
    "    number_of_test_examples = range_mult\n",
    "    \n",
    "    X_train = tf.keras.utils.normalize(train_X_mod, axis=1)\n",
    "    y_train = train_y_mod\n",
    "    X_test = tf.keras.utils.normalize(test_X_mod, axis=1)\n",
    "    y_test = test_y_mod \n",
    "    \n",
    "    np.random.seed(43)\n",
    "    tf.random.set_seed(43)\n",
    "    # Split dataset into batches\n",
    "    train_ds = tf.data.Dataset.from_tensor_slices((X_train, y_train)).batch(128)\n",
    "    test_ds = tf.data.Dataset.from_tensor_slices((X_test, y_test)).batch(4)\n",
    "    \n",
    "    class MLP(object):\n",
    "      def __init__(self, size_input, size_hidden1, size_hidden2, size_output, device=None):\n",
    "        \"\"\"\n",
    "        size_input: int, size of input layer\n",
    "        size_hidden1: int, size of hidden layer 1\n",
    "        size_hidden2: int, size of hodden layer 2\n",
    "        size_output: int, size of output layer\n",
    "        device: str or None, either 'cpu' or 'gpu' or None. If None, the device to be used will be decided automatically during Eager Execution\n",
    "        \"\"\"\n",
    "        self.size_input, self.size_hidden1, self.size_hidden2, self.size_output, self.device =\\\n",
    "        size_input, size_hidden1, size_hidden2, size_output, device\n",
    "\n",
    "        # Initialize weights between input layer and hidden layer\n",
    "        self.W1 = tf.Variable(tf.random.normal([self.size_input, self.size_hidden1]))\n",
    "        # Initialize biases for hidden layer\n",
    "        self.b1 = tf.Variable(tf.random.normal([1, self.size_hidden1]))\n",
    "        # Initialize weights between input layer and hidden layer\n",
    "        self.W2 = tf.Variable(tf.random.normal([self.size_hidden1, self.size_hidden2]))\n",
    "        # Initialize biases for hidden layer\n",
    "        self.b2 = tf.Variable(tf.random.normal([1, self.size_hidden2]))\n",
    "         # Initialize weights between hidden layer and output layer\n",
    "        self.W3 = tf.Variable(tf.random.normal([self.size_hidden2, self.size_output]))\n",
    "        # Initialize biases for output layer\n",
    "        self.b3 = tf.Variable(tf.random.normal([1, self.size_output]))\n",
    "\n",
    "        # Define variables to be updated during backpropagation\n",
    "        self.variables = [self.W1, self.W2, self.W3, self.b1, self.b2, self.b3]\n",
    "\n",
    "      def forward(self, X):\n",
    "        \"\"\"\n",
    "        forward pass\n",
    "        X: Tensor, inputs\n",
    "        \"\"\"\n",
    "        if self.device is not None:\n",
    "          with tf.device('gpu:0' if self.device=='gpu' else 'cpu'):\n",
    "            self.y = self.compute_output(X)\n",
    "        else:\n",
    "          self.y = self.compute_output(X)\n",
    "\n",
    "        return self.y\n",
    "\n",
    "      def loss(self, y_pred, y_true):\n",
    "        '''\n",
    "        y_pred - Tensor of shape (batch_size, size_output)\n",
    "        y_true - Tensor of shape (batch_size, size_output)\n",
    "        '''\n",
    "        y_true_tf = tf.cast(tf.reshape(y_true, (-1, self.size_output)), dtype=tf.float32)\n",
    "        y_pred_tf = tf.cast(y_pred, dtype=tf.float32)\n",
    "        #return tf.losses.mean_squared_error(y_true_tf, y_pred_tf)\n",
    "        #print(y_true_tf)\n",
    "        #print(y_pred_tf)\n",
    "        cce = tf.keras.losses.CategoricalCrossentropy()\n",
    "        loss_val = cce(y_true_tf, y_pred_tf)\n",
    "        regularizer = tf.nn.l2_loss(self.W1)+tf.nn.l2_loss(self.W2)\n",
    "        loss_val = tf.reduce_mean(loss_val + 0.01 * regularizer)\n",
    "\n",
    "        #print(loss_val)\n",
    "        return loss_val\n",
    "\n",
    "      def accuracy(self, y_pred, y_true):\n",
    "        '''\n",
    "        y_pred - Tensor of shape (batch_size, size_output)\n",
    "        y_true - Tensor of shape (batch_size, size_output)\n",
    "        '''\n",
    "        '''\n",
    "        y_true_tf = tf.cast(tf.reshape(y_true, (-1, self.size_output)), dtype=tf.float32)\n",
    "        #y_pred_tf = tf.cast(y_pred, dtype=tf.float32)\n",
    "        y_pred_tf = tf.cast(tf.reshape(y_pred, (-1, self.size_output)), dtype=tf.float32)\n",
    "        print(y_true_tf)\n",
    "        print(y_pred_tf)\n",
    "        ## CALCULATING COST AND ACCURACY\n",
    "        #cost = tf.reduce_mean(tf.nn.softmax_cross_entropy_with_logits(logits=y_preds, labels=y))\n",
    "        #optimizer = tf.train.AdamOptimizer(learning_rate=1e-3).minimize(cost)\n",
    "        correct_pred = tf.equal(tf.argmax(y_pred, 1), tf.argmax(y_true, 1))\n",
    "        #print(correct_pred)\n",
    "        accuracy = tf.reduce_mean(tf.cast(correct_pred, tf.float32), name='accuracy')\n",
    "        #print(ac)\n",
    "        return accuracy\n",
    "        '''\n",
    "        y_true_tf = tf.cast(tf.reshape(y_true, (-1, self.size_output)), dtype=tf.float32)\n",
    "        #y_pred_tf = tf.cast(y_pred, dtype=tf.float32)\n",
    "        y_pred_tf = tf.cast(tf.reshape(y_pred, (-1, self.size_output)), dtype=tf.float32)    \n",
    "        correct_pred = tf.equal(tf.argmax(y_pred, 1), tf.argmax(y_true, 1))\n",
    "        #print(correct_pred)\n",
    "        accuracy = tf.reduce_mean(tf.cast(correct_pred, tf.float32), name='accuracy')\n",
    "        #print(accuracy)\n",
    "        return accuracy\n",
    "\n",
    "      def backward(self, X_train, y_train):\n",
    "        \"\"\"\n",
    "        backward pass\n",
    "        \"\"\"\n",
    "        optimizer = tf.keras.optimizers.SGD(learning_rate=1e-2)\n",
    "        with tf.GradientTape() as tape:\n",
    "          predicted = self.forward(X_train)\n",
    "          current_loss = self.loss(predicted, y_train)\n",
    "        grads = tape.gradient(current_loss, self.variables)\n",
    "        optimizer.apply_gradients(zip(grads, self.variables))\n",
    "\n",
    "\n",
    "      def compute_output(self, X):\n",
    "        \"\"\"\n",
    "        Custom method to obtain output tensor during forward pass\n",
    "        \"\"\"\n",
    "        # Cast X to float32\n",
    "        X_tf = tf.cast(X, dtype=tf.float32)\n",
    "        #Remember to normalize your dataset before moving forward\n",
    "        # Compute values in hidden layer1\n",
    "        what1 = tf.matmul(X_tf, self.W1) + self.b1\n",
    "        hhat1 = tf.nn.relu(what1)\n",
    "        hhat1_1 = tf.nn.dropout(hhat1, 0.25)\n",
    "        \n",
    "        what2 = tf.matmul(hhat1_1, self.W2) + self.b2\n",
    "        hhat2 = tf.nn.relu(what2)\n",
    "        hhat2_2 = tf.nn.dropout(hhat2, 0.25)\n",
    "        # Compute output\n",
    "        output = tf.matmul(hhat2_2, self.W3) + self.b3\n",
    "        #Now consider two things , First look at inbuild loss functions if they work with softmax or not and then change this\n",
    "        #Second add tf.Softmax(output) and then return this variable\n",
    "        output = tf.nn.softmax(output)\n",
    "        return output\n",
    "    \n",
    "    # Set number of epochs\n",
    "    NUM_EPOCHS = 10\n",
    "    \n",
    "    # Initialize model using CPU\n",
    "    mlp_on_cpu = MLP(size_input, size_hidden1, size_hidden2, size_output, device='cpu')\n",
    "\n",
    "    # Array to store accuracy and loss\n",
    "    loss_with_epoch = []\n",
    "    acc_with_epoch = []\n",
    "\n",
    "    time_start = time.time()\n",
    "    for epoch in range(NUM_EPOCHS):\n",
    "      ac = 0\n",
    "      count = 0\n",
    "      loss_total = tf.zeros([1,1], dtype=tf.float32)\n",
    "      lt = 0\n",
    "      train_ds = tf.data.Dataset.from_tensor_slices((X_train, y_train)).shuffle(25, seed=epoch*(1234)).batch(20)\n",
    "      for inputs, outputs in train_ds:\n",
    "        preds = mlp_on_cpu.forward(inputs)\n",
    "        loss_total = loss_total + mlp_on_cpu.loss(preds, outputs)\n",
    "        lt = lt + mlp_on_cpu.loss(preds, outputs)\n",
    "        mlp_on_cpu.backward(inputs, outputs)\n",
    "        ac = ac+mlp_on_cpu.accuracy(preds, outputs)\n",
    "        #ac = mlp_on_cpu.accuracy(preds, outputs)\n",
    "        count += 1\n",
    "      print('Number of Epoch = {} - Average celoss:= {}- Acc:= {} '.format(epoch + 1, np.sum(loss_total) / X_train.shape[0], ac/count))\n",
    "      loss_with_epoch.append(np.sum(loss_total) / X_train.shape[0])\n",
    "      acc_with_epoch.append(ac/count)\n",
    "    time_taken = time.time() - time_start\n",
    "\n",
    "    print('\\nTotal time taken (in seconds): {:.2f}'.format(time_taken))\n",
    "    #For per epoch_time = Total_Time / Number_of_epochs\n",
    "    \n",
    "    acc_across_training.append(acc_with_epoch[-1])\n",
    "    \n",
    "    test_loss_total = tf.Variable(0, dtype=tf.float32)\n",
    "    #test_loss_total = 0.0\n",
    "    count = 0\n",
    "    ac = 0\n",
    "    for inputs, outputs in test_ds:\n",
    "      preds = mlp_on_cpu.forward(inputs)\n",
    "      #b = mlp_on_default.loss(preds, outputs)\n",
    "      test_loss_total = test_loss_total + mlp_on_cpu.loss(preds, outputs)\n",
    "      ac += mlp_on_cpu.accuracy(preds, outputs)\n",
    "      count += 1\n",
    "    # a = (test_loss_total.numpy() / X_train.shape[0])\n",
    "    # print(X_train.shape[0])\n",
    "    # print(test_loss_total.numpy())\n",
    "    # print(b)\n",
    "    print('Test celoss: {:.4f} and accuracy: {:.4f}'.format(np.sum(test_loss_total.numpy()) / X_train.shape[0], ac/count))\n",
    "    acc_across_validation.append(ac/count)"
   ]
  },
  {
   "cell_type": "code",
   "execution_count": 26,
   "id": "185c27f1",
   "metadata": {},
   "outputs": [
    {
     "data": {
      "image/png": "[encoded data removed]",
      "text/plain": [
       "<Figure size 432x288 with 1 Axes>"
      ]
     },
     "metadata": {
      "needs_background": "light"
     },
     "output_type": "display_data"
    }
   ],
   "source": [
    "\n",
    "import numpy as np\n",
    "import matplotlib.pyplot as plt\n",
    "x = [i for i in range(1,11)]\n",
    "line1, = plt.plot(x, acc_across_training, label='accr_training')\n",
    "line2, = plt.plot(x, acc_across_validation, label='accr_validation')\n",
    "#plt.plot(x, acc_with_epoch, label='accr')\n",
    "plt.legend(handles=[line1, line2], loc='best')\n",
    "plt.grid(b=True, color='aqua', alpha=0.6, linestyle='dashdot')\n",
    "plt.show()"
   ]
  },
  {
   "cell_type": "code",
   "execution_count": 6,
   "id": "44ac3bce",
   "metadata": {},
   "outputs": [
    {
     "data": {
      "image/png": "[encoded data removed]",
      "text/plain": [
       "<Figure size 432x288 with 1 Axes>"
      ]
     },
     "metadata": {
      "needs_background": "light"
     },
     "output_type": "display_data"
    },
    {
     "data": {
      "image/png": "[encoded data removed]",
      "text/plain": [
       "<Figure size 432x288 with 1 Axes>"
      ]
     },
     "metadata": {
      "needs_background": "light"
     },
     "output_type": "display_data"
    },
    {
     "data": {
      "image/png": "[encoded data removed]",
      "text/plain": [
       "<Figure size 432x288 with 1 Axes>"
      ]
     },
     "metadata": {
      "needs_background": "light"
     },
     "output_type": "display_data"
    },
    {
     "data": {
      "image/png": "[encoded data removed]",
      "text/plain": [
       "<Figure size 432x288 with 1 Axes>"
      ]
     },
     "metadata": {
      "needs_background": "light"
     },
     "output_type": "display_data"
    },
    {
     "data": {
      "image/png": "[encoded data removed]",
      "text/plain": [
       "<Figure size 432x288 with 1 Axes>"
      ]
     },
     "metadata": {
      "needs_background": "light"
     },
     "output_type": "display_data"
    },
    {
     "data": {
      "image/png": "[encoded data removed]",
      "text/plain": [
       "<Figure size 432x288 with 1 Axes>"
      ]
     },
     "metadata": {
      "needs_background": "light"
     },
     "output_type": "display_data"
    },
    {
     "data": {
      "image/png": "[encoded data removed]",
      "text/plain": [
       "<Figure size 432x288 with 1 Axes>"
      ]
     },
     "metadata": {
      "needs_background": "light"
     },
     "output_type": "display_data"
    },
    {
     "data": {
      "image/png": "[encoded data removed]",
      "text/plain": [
       "<Figure size 432x288 with 1 Axes>"
      ]
     },
     "metadata": {
      "needs_background": "light"
     },
     "output_type": "display_data"
    },
    {
     "data": {
      "image/png": "[encoded data removed]",
      "text/plain": [
       "<Figure size 432x288 with 1 Axes>"
      ]
     },
     "metadata": {
      "needs_background": "light"
     },
     "output_type": "display_data"
    }
   ],
   "source": [
    "'''\n",
    "from matplotlib import pyplot\n",
    "for i in range(9):  \n",
    "    pyplot.subplot(330 + 1 + i)\n",
    "    pyplot.imshow(x_train[i], cmap=pyplot.get_cmap('gray'))\n",
    "    pyplot.show()\n",
    "'''"
   ]
  },
  {
   "cell_type": "code",
   "execution_count": 4,
   "id": "7f4e027d",
   "metadata": {},
   "outputs": [],
   "source": []
  },
  {
   "cell_type": "code",
   "execution_count": 5,
   "id": "40d69171",
   "metadata": {},
   "outputs": [],
   "source": []
  },
  {
   "cell_type": "code",
   "execution_count": 6,
   "id": "e409c7f0",
   "metadata": {},
   "outputs": [],
   "source": []
  },
  {
   "cell_type": "code",
   "execution_count": 7,
   "id": "bb220135",
   "metadata": {},
   "outputs": [],
   "source": []
  },
  {
   "cell_type": "code",
   "execution_count": 8,
   "id": "2c7273cc",
   "metadata": {},
   "outputs": [],
   "source": []
  },
  {
   "cell_type": "code",
   "execution_count": 9,
   "id": "ea43aaa2",
   "metadata": {},
   "outputs": [],
   "source": []
  },
  {
   "cell_type": "code",
   "execution_count": 10,
   "id": "1f6cb710",
   "metadata": {},
   "outputs": [
    {
     "name": "stdout",
     "output_type": "stream",
     "text": [
      "Number of Epoch = 1 - Average celoss:= 127.368525- Acc:= 0.16359998285770416 \n",
      "Number of Epoch = 2 - Average celoss:= 115.234525- Acc:= 0.2609000504016876 \n",
      "Number of Epoch = 3 - Average celoss:= 104.29383125- Acc:= 0.29909998178482056 \n",
      "Number of Epoch = 4 - Average celoss:= 94.37913125- Acc:= 0.353200227022171 \n",
      "Number of Epoch = 5 - Average celoss:= 85.4342125- Acc:= 0.3707001209259033 \n",
      "Number of Epoch = 6 - Average celoss:= 77.34096875- Acc:= 0.383099764585495 \n",
      "Number of Epoch = 7 - Average celoss:= 70.00730625- Acc:= 0.40989989042282104 \n",
      "Number of Epoch = 8 - Average celoss:= 63.38885- Acc:= 0.41269969940185547 \n",
      "Number of Epoch = 9 - Average celoss:= 57.3979125- Acc:= 0.4184001088142395 \n",
      "Number of Epoch = 10 - Average celoss:= 51.973671875- Acc:= 0.42579975724220276 \n",
      "\n",
      "Total time taken (in seconds): 205.89\n"
     ]
    }
   ],
   "source": []
  },
  {
   "cell_type": "code",
   "execution_count": null,
   "id": "ea7abf12",
   "metadata": {},
   "outputs": [],
   "source": []
  }
 ],
 "metadata": {
  "kernelspec": {
   "display_name": "Python 3 (ipykernel)",
   "language": "python",
   "name": "python3"
  },
  "language_info": {
   "codemirror_mode": {
    "name": "ipython",
    "version": 3
   },
   "file_extension": ".py",
   "mimetype": "text/x-python",
   "name": "python",
   "nbconvert_exporter": "python",
   "pygments_lexer": "ipython3",
   "version": "3.9.7"
  }
 },
 "nbformat": 4,
 "nbformat_minor": 5
}
